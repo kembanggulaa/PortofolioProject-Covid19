{
  "nbformat": 4,
  "nbformat_minor": 0,
  "metadata": {
    "colab": {
      "name": "Permodelan dan Klasifikasi Email.ipynb",
      "provenance": [],
      "collapsed_sections": [],
      "authorship_tag": "ABX9TyNVZgtTaA9Y4nedQ7aIP/y5",
      "include_colab_link": true
    },
    "kernelspec": {
      "name": "python3",
      "display_name": "Python 3"
    },
    "language_info": {
      "name": "python"
    }
  },
  "cells": [
    {
      "cell_type": "markdown",
      "metadata": {
        "id": "view-in-github",
        "colab_type": "text"
      },
      "source": [
        "<a href=\"https://colab.research.google.com/github/kembanggulaa/PortofolioProject-Covid19/blob/cobaan/Permodelan_dan_Klasifikasi_Email.ipynb\" target=\"_parent\"><img src=\"https://colab.research.google.com/assets/colab-badge.svg\" alt=\"Open In Colab\"/></a>"
      ]
    },
    {
      "cell_type": "code",
      "metadata": {
        "id": "IA2k_yVPvsYs"
      },
      "source": [
        "#import library\n",
        "import pandas as pd\n",
        "import numpy as np\n",
        "import matplotlib.pyplot as plt\n",
        "import nltk\n",
        "import string\n",
        "import re"
      ],
      "execution_count": null,
      "outputs": []
    },
    {
      "cell_type": "code",
      "metadata": {
        "id": "fdO0w4IlwVOM"
      },
      "source": [
        "data_bersih = pd.read_csv(\"./data_preprocessing.csv\", sep=',', encoding = 'utf-8')"
      ],
      "execution_count": null,
      "outputs": []
    },
    {
      "cell_type": "code",
      "metadata": {
        "colab": {
          "base_uri": "https://localhost:8080/",
          "height": 206
        },
        "id": "4fQuhouUwd9g",
        "outputId": "d792c2c0-4660-4235-857c-9697083dcb8d"
      },
      "source": [
        "data_bersih.head()"
      ],
      "execution_count": null,
      "outputs": [
        {
          "output_type": "execute_result",
          "data": {
            "text/html": [
              "<div>\n",
              "<style scoped>\n",
              "    .dataframe tbody tr th:only-of-type {\n",
              "        vertical-align: middle;\n",
              "    }\n",
              "\n",
              "    .dataframe tbody tr th {\n",
              "        vertical-align: top;\n",
              "    }\n",
              "\n",
              "    .dataframe thead th {\n",
              "        text-align: right;\n",
              "    }\n",
              "</style>\n",
              "<table border=\"1\" class=\"dataframe\">\n",
              "  <thead>\n",
              "    <tr style=\"text-align: right;\">\n",
              "      <th></th>\n",
              "      <th>label</th>\n",
              "      <th>email</th>\n",
              "      <th>preprocessing</th>\n",
              "    </tr>\n",
              "  </thead>\n",
              "  <tbody>\n",
              "    <tr>\n",
              "      <th>0</th>\n",
              "      <td>Spam</td>\n",
              "      <td>But could then once pomp to nor that glee glor...</td>\n",
              "      <td>could pomp glee glorious deigned vexed times c...</td>\n",
              "    </tr>\n",
              "    <tr>\n",
              "      <th>1</th>\n",
              "      <td>Spam</td>\n",
              "      <td>His honeyed and land vile are so and native fr...</td>\n",
              "      <td>honeyed land vile native like flash gild baske...</td>\n",
              "    </tr>\n",
              "    <tr>\n",
              "      <th>2</th>\n",
              "      <td>Spam</td>\n",
              "      <td>Tear womans his was by had tis her eremites th...</td>\n",
              "      <td>tear womans eremites present dear known prose ...</td>\n",
              "    </tr>\n",
              "    <tr>\n",
              "      <th>3</th>\n",
              "      <td>Ham</td>\n",
              "      <td>The that and land. Cell shun blazon passion un...</td>\n",
              "      <td>land cell shun blazon passion uncouth paphian ...</td>\n",
              "    </tr>\n",
              "    <tr>\n",
              "      <th>4</th>\n",
              "      <td>Spam</td>\n",
              "      <td>Sing aught through partings things was sacred ...</td>\n",
              "      <td>sing aught partings things sacred knew passion...</td>\n",
              "    </tr>\n",
              "  </tbody>\n",
              "</table>\n",
              "</div>"
            ],
            "text/plain": [
              "  label  ...                                      preprocessing\n",
              "0  Spam  ...  could pomp glee glorious deigned vexed times c...\n",
              "1  Spam  ...  honeyed land vile native like flash gild baske...\n",
              "2  Spam  ...  tear womans eremites present dear known prose ...\n",
              "3   Ham  ...  land cell shun blazon passion uncouth paphian ...\n",
              "4  Spam  ...  sing aught partings things sacred knew passion...\n",
              "\n",
              "[5 rows x 3 columns]"
            ]
          },
          "metadata": {},
          "execution_count": 3
        }
      ]
    },
    {
      "cell_type": "code",
      "metadata": {
        "colab": {
          "base_uri": "https://localhost:8080/",
          "height": 206
        },
        "id": "XpIw4SPl2L2h",
        "outputId": "e619a560-2369-4e5b-b20b-c470d6238794"
      },
      "source": [
        "data_bersih['label'] = data_bersih['label'].map({\"Ham\" : 1, \"Spam\" : 0})\n",
        "data_bersih.head()"
      ],
      "execution_count": null,
      "outputs": [
        {
          "output_type": "execute_result",
          "data": {
            "text/html": [
              "<div>\n",
              "<style scoped>\n",
              "    .dataframe tbody tr th:only-of-type {\n",
              "        vertical-align: middle;\n",
              "    }\n",
              "\n",
              "    .dataframe tbody tr th {\n",
              "        vertical-align: top;\n",
              "    }\n",
              "\n",
              "    .dataframe thead th {\n",
              "        text-align: right;\n",
              "    }\n",
              "</style>\n",
              "<table border=\"1\" class=\"dataframe\">\n",
              "  <thead>\n",
              "    <tr style=\"text-align: right;\">\n",
              "      <th></th>\n",
              "      <th>label</th>\n",
              "      <th>email</th>\n",
              "      <th>preprocessing</th>\n",
              "    </tr>\n",
              "  </thead>\n",
              "  <tbody>\n",
              "    <tr>\n",
              "      <th>0</th>\n",
              "      <td>0</td>\n",
              "      <td>But could then once pomp to nor that glee glor...</td>\n",
              "      <td>could pomp glee glorious deigned vexed times c...</td>\n",
              "    </tr>\n",
              "    <tr>\n",
              "      <th>1</th>\n",
              "      <td>0</td>\n",
              "      <td>His honeyed and land vile are so and native fr...</td>\n",
              "      <td>honeyed land vile native like flash gild baske...</td>\n",
              "    </tr>\n",
              "    <tr>\n",
              "      <th>2</th>\n",
              "      <td>0</td>\n",
              "      <td>Tear womans his was by had tis her eremites th...</td>\n",
              "      <td>tear womans eremites present dear known prose ...</td>\n",
              "    </tr>\n",
              "    <tr>\n",
              "      <th>3</th>\n",
              "      <td>1</td>\n",
              "      <td>The that and land. Cell shun blazon passion un...</td>\n",
              "      <td>land cell shun blazon passion uncouth paphian ...</td>\n",
              "    </tr>\n",
              "    <tr>\n",
              "      <th>4</th>\n",
              "      <td>0</td>\n",
              "      <td>Sing aught through partings things was sacred ...</td>\n",
              "      <td>sing aught partings things sacred knew passion...</td>\n",
              "    </tr>\n",
              "  </tbody>\n",
              "</table>\n",
              "</div>"
            ],
            "text/plain": [
              "   label  ...                                      preprocessing\n",
              "0      0  ...  could pomp glee glorious deigned vexed times c...\n",
              "1      0  ...  honeyed land vile native like flash gild baske...\n",
              "2      0  ...  tear womans eremites present dear known prose ...\n",
              "3      1  ...  land cell shun blazon passion uncouth paphian ...\n",
              "4      0  ...  sing aught partings things sacred knew passion...\n",
              "\n",
              "[5 rows x 3 columns]"
            ]
          },
          "metadata": {},
          "execution_count": 4
        }
      ]
    },
    {
      "cell_type": "code",
      "metadata": {
        "colab": {
          "base_uri": "https://localhost:8080/"
        },
        "id": "EJxkGWKdwg78",
        "outputId": "bea79851-f264-44b9-8524-b51b0c65d70a"
      },
      "source": [
        "data_bersih = data_bersih.astype({'label' : 'category'})\n",
        "data_bersih = data_bersih.astype({'preprocessing' : 'string'})\n",
        "data_bersih.dtypes"
      ],
      "execution_count": null,
      "outputs": [
        {
          "output_type": "execute_result",
          "data": {
            "text/plain": [
              "label            category\n",
              "email              object\n",
              "preprocessing      string\n",
              "dtype: object"
            ]
          },
          "metadata": {},
          "execution_count": 5
        }
      ]
    },
    {
      "cell_type": "code",
      "metadata": {
        "id": "oz3DHB4Sxifj"
      },
      "source": [
        "#Mendefinisikan X dan y\n",
        "X = data_bersih['preprocessing']\n",
        "y = data_bersih['label']"
      ],
      "execution_count": null,
      "outputs": []
    },
    {
      "cell_type": "code",
      "metadata": {
        "colab": {
          "base_uri": "https://localhost:8080/"
        },
        "id": "6bNH2jOaxo04",
        "outputId": "9fea0886-2268-4828-ce9d-245c2909f68a"
      },
      "source": [
        "#Proses TF-IDF\n",
        "from sklearn.feature_extraction.text import TfidfVectorizer\n",
        "\n",
        "tf = TfidfVectorizer(stop_words='english', max_df=0.7, token_pattern='(?u)\\\\b\\\\w+\\\\b')\n",
        "email_tf = tf.fit_transform(X.astype('U').values)\n"
      ],
      "execution_count": null,
      "outputs": [
        {
          "output_type": "stream",
          "name": "stdout",
          "text": [
            "['adieu', 'adore', 'adversity', 'agen', 'agreeing', 'aidenn', 'aisle', 'alas', 'albions', 'amiss']\n"
          ]
        },
        {
          "output_type": "stream",
          "name": "stderr",
          "text": [
            "/usr/local/lib/python3.7/dist-packages/sklearn/utils/deprecation.py:87: FutureWarning: Function get_feature_names is deprecated; get_feature_names is deprecated in 1.0 and will be removed in 1.2. Please use get_feature_names_out instead.\n",
            "  warnings.warn(msg, category=FutureWarning)\n"
          ]
        }
      ]
    },
    {
      "cell_type": "code",
      "source": [
        "#Split Dataset\n",
        "from sklearn.model_selection import train_test_split\n",
        "\n",
        "X_train, X_test, y_train, y_test = train_test_split(email_tf, y, test_size=0.20, random_state=42, shuffle=True)\n",
        "X_train.shape, X_test.shape, y_train.shape,y_test.shape"
      ],
      "metadata": {
        "id": "Z1phnMpwMKhf"
      },
      "execution_count": null,
      "outputs": []
    },
    {
      "cell_type": "code",
      "metadata": {
        "colab": {
          "base_uri": "https://localhost:8080/"
        },
        "id": "8lFY1OZZMfg8",
        "outputId": "e6d05a4c-dd1e-454b-a980-d49d79c54858"
      },
      "source": [
        "print(y_test)"
      ],
      "execution_count": null,
      "outputs": [
        {
          "output_type": "stream",
          "name": "stdout",
          "text": [
            "256     0\n",
            "352     1\n",
            "298     0\n",
            "581     0\n",
            "1287    1\n",
            "       ..\n",
            "650     0\n",
            "1436    0\n",
            "261     0\n",
            "1304    1\n",
            "966     0\n",
            "Name: label, Length: 400, dtype: category\n",
            "Categories (2, int64): [0, 1]\n"
          ]
        }
      ]
    },
    {
      "cell_type": "code",
      "metadata": {
        "id": "uq5o0sloxzII"
      },
      "source": [
        "#Performa Algoritma Naive Bayes\n",
        "from sklearn.naive_bayes import MultinomialNB\n",
        "\n",
        "cf_nb = MultinomialNB(alpha=1.0, class_prior=None, fit_prior=True)"
      ],
      "execution_count": null,
      "outputs": []
    },
    {
      "cell_type": "code",
      "metadata": {
        "colab": {
          "base_uri": "https://localhost:8080/"
        },
        "id": "lW4Gn_9Jx1UV",
        "outputId": "a6654bb8-447e-46f5-e5bf-3b86122ad7aa"
      },
      "source": [
        "#cross validation for Naive Bayes Algoritma\n",
        "from sklearn.model_selection import cross_val_score\n",
        "valid = cross_val_score(estimator = cf_nb , X = email_tf, y=y , cv=10)\n",
        "print(\"Cross Validation results for 10 folds\")\n",
        "print(valid)\n",
        "print(f\"Mean for cross val is {valid.mean()}\")\n",
        "print(f\"std for the cross val is {valid.std()}\")"
      ],
      "execution_count": null,
      "outputs": [
        {
          "output_type": "stream",
          "name": "stdout",
          "text": [
            "Cross Validation results for 10 folds\n",
            "[0.56       0.97       1.         1.         1.         1.\n",
            " 1.         0.625      0.43718593 0.64321608]\n",
            "Mean for cross val is 0.8235402010050251\n",
            "std for the cross val is 0.21628657759004605\n"
          ]
        }
      ]
    },
    {
      "cell_type": "code",
      "metadata": {
        "colab": {
          "base_uri": "https://localhost:8080/"
        },
        "id": "RAhpcKuux3Hc",
        "outputId": "ee203bdc-23f1-40b2-df33-6df79b26515f"
      },
      "source": [
        "#Training dengan MultinominalNB\n",
        "cf_nb.fit(X_train, y_train)"
      ],
      "execution_count": null,
      "outputs": [
        {
          "output_type": "execute_result",
          "data": {
            "text/plain": [
              "MultinomialNB()"
            ]
          },
          "metadata": {},
          "execution_count": 11
        }
      ]
    },
    {
      "cell_type": "code",
      "metadata": {
        "colab": {
          "base_uri": "https://localhost:8080/"
        },
        "id": "W-9cOX9px7aK",
        "outputId": "16df1e3c-ef33-4631-b6df-da1f7598f666"
      },
      "source": [
        "#checking score based on set test\n",
        "from sklearn.metrics import classification_report , accuracy_score , confusion_matrix\n",
        "pred = cf_nb.predict(X_test)\n",
        "\n",
        "print(f\"Classification Repport\\n  {classification_report(y_test , pred)}\")\n",
        "\n",
        "print(\"\\n\\n\")\n",
        "print(f\"Confudion Matrix  \\n {confusion_matrix(y_test , pred)}\")\n",
        "\n",
        "print(\"\\n\\n\")\n",
        "print(f\"Accuracy score   {accuracy_score(y_test , pred)}\")"
      ],
      "execution_count": null,
      "outputs": [
        {
          "output_type": "stream",
          "name": "stdout",
          "text": [
            "Classification Repport\n",
            "                precision    recall  f1-score   support\n",
            "\n",
            "           0       0.92      0.79      0.85       235\n",
            "           1       0.75      0.90      0.82       165\n",
            "\n",
            "    accuracy                           0.83       400\n",
            "   macro avg       0.83      0.85      0.83       400\n",
            "weighted avg       0.85      0.83      0.84       400\n",
            "\n",
            "\n",
            "\n",
            "\n",
            "Confudion Matrix  \n",
            " [[185  50]\n",
            " [ 16 149]]\n",
            "\n",
            "\n",
            "\n",
            "Accuracy score   0.835\n"
          ]
        }
      ]
    },
    {
      "cell_type": "code",
      "metadata": {
        "id": "_Vd9prcox9J8"
      },
      "source": [
        "#Performa Algoritma Random Forest\n",
        "from sklearn.ensemble import RandomForestClassifier\n",
        "\n",
        "cf_rf = RandomForestClassifier(n_estimators=100, max_leaf_nodes=24, n_jobs=-1, random_state=1)"
      ],
      "execution_count": null,
      "outputs": []
    },
    {
      "cell_type": "markdown",
      "metadata": {
        "id": "qUGmLKk2dyu8"
      },
      "source": [
        ""
      ]
    },
    {
      "cell_type": "code",
      "metadata": {
        "colab": {
          "base_uri": "https://localhost:8080/"
        },
        "id": "kTsu2b2IyAWg",
        "outputId": "2c5495ad-1911-4c87-aeed-88d00268c110"
      },
      "source": [
        "#cross validation for Random Forest classifeir\n",
        "from sklearn.model_selection import cross_val_score\n",
        "valid = cross_val_score(estimator = cf_rf , X =email_tf , y=y , cv=15)\n",
        "print(\"Cross Validation results for 10 folds\")\n",
        "print(valid)\n",
        "print(f\"Mean for cross val is {valid.mean()}\")\n",
        "print(f\"std for the cross val is {valid.std()}\")"
      ],
      "execution_count": null,
      "outputs": [
        {
          "output_type": "stream",
          "name": "stdout",
          "text": [
            "Cross Validation results for 10 folds\n",
            "[0.55970149 0.73880597 1.         1.         1.         1.\n",
            " 1.         1.         1.         1.         0.98496241 0.44360902\n",
            " 0.44360902 0.44360902 0.7443609 ]\n",
            "Mean for cross val is 0.8239105225750945\n",
            "std for the cross val is 0.22967553532135557\n"
          ]
        }
      ]
    },
    {
      "cell_type": "code",
      "metadata": {
        "colab": {
          "base_uri": "https://localhost:8080/"
        },
        "id": "TNb2jRFnyCFc",
        "outputId": "efb0287d-f8fb-469b-f14f-c9572a3ef53a"
      },
      "source": [
        "#Training dengan Random Forest\n",
        "cf_rf.fit(X_train ,y_train)"
      ],
      "execution_count": null,
      "outputs": [
        {
          "output_type": "execute_result",
          "data": {
            "text/plain": [
              "RandomForestClassifier(max_leaf_nodes=24, n_jobs=-1, random_state=1)"
            ]
          },
          "metadata": {},
          "execution_count": 15
        }
      ]
    },
    {
      "cell_type": "code",
      "metadata": {
        "colab": {
          "base_uri": "https://localhost:8080/"
        },
        "id": "gg0owa_myFbU",
        "outputId": "76e776cc-f5bb-4898-d718-86bccfc05afc"
      },
      "source": [
        "#checking score based on set test\n",
        "pred1 = cf_rf.predict(X_test)\n",
        "\n",
        "print(f\"Classification Repport\\n  {classification_report(y_test , pred1)}\")\n",
        "\n",
        "print(\"\\n\\n\")\n",
        "print(f\"Confudion Matrix  \\n {confusion_matrix(y_test , pred1)}\")\n",
        "\n",
        "print(\"\\n\\n\")\n",
        "print(f\"Accuracy score   {accuracy_score(y_test , pred1)}\")"
      ],
      "execution_count": null,
      "outputs": [
        {
          "output_type": "stream",
          "name": "stdout",
          "text": [
            "Classification Repport\n",
            "                precision    recall  f1-score   support\n",
            "\n",
            "           0       0.92      0.79      0.85       235\n",
            "           1       0.75      0.90      0.82       165\n",
            "\n",
            "    accuracy                           0.83       400\n",
            "   macro avg       0.83      0.85      0.83       400\n",
            "weighted avg       0.85      0.83      0.84       400\n",
            "\n",
            "\n",
            "\n",
            "\n",
            "Confudion Matrix  \n",
            " [[185  50]\n",
            " [ 16 149]]\n",
            "\n",
            "\n",
            "\n",
            "Accuracy score   0.835\n"
          ]
        }
      ]
    },
    {
      "cell_type": "code",
      "metadata": {
        "id": "O1Q9WaJ6yHRT"
      },
      "source": [
        "#Performa Algoritma KNN\n",
        "from sklearn.neighbors import KNeighborsClassifier\n",
        "\n",
        "cf_knn = KNeighborsClassifier(n_neighbors=3)"
      ],
      "execution_count": null,
      "outputs": []
    },
    {
      "cell_type": "code",
      "metadata": {
        "colab": {
          "base_uri": "https://localhost:8080/"
        },
        "id": "yTJWLUGsyLAB",
        "outputId": "0d86a3de-f3ee-485a-d2e9-051624d30a8b"
      },
      "source": [
        "#cross validation for KNN classifier\n",
        "from sklearn.model_selection import cross_val_score\n",
        "valid = cross_val_score(estimator = cf_knn , X =email_tf , y=y , cv=10)\n",
        "print(\"Cross Validation results for 10 folds\")\n",
        "print(valid)\n",
        "print(f\"Mean for cross val is {valid.mean()}\")\n",
        "print(f\"std for the cross val is {valid.std()}\")"
      ],
      "execution_count": null,
      "outputs": [
        {
          "output_type": "stream",
          "name": "stdout",
          "text": [
            "Cross Validation results for 10 folds\n",
            "[0.56       0.915      0.91       0.94       0.895      0.9\n",
            " 0.87       0.63       0.43718593 0.65829146]\n",
            "Mean for cross val is 0.7715477386934674\n",
            "std for the cross val is 0.17290750388246945\n"
          ]
        }
      ]
    },
    {
      "cell_type": "code",
      "metadata": {
        "colab": {
          "base_uri": "https://localhost:8080/"
        },
        "id": "ubwtSTVxyMyU",
        "outputId": "ea20c74b-5bba-45c4-8965-d7bbdcdfecb1"
      },
      "source": [
        "#Training dengan KNN\n",
        "cf_knn.fit(X_train ,y_train)"
      ],
      "execution_count": null,
      "outputs": [
        {
          "output_type": "execute_result",
          "data": {
            "text/plain": [
              "KNeighborsClassifier(n_neighbors=3)"
            ]
          },
          "metadata": {},
          "execution_count": 19
        }
      ]
    },
    {
      "cell_type": "code",
      "metadata": {
        "colab": {
          "base_uri": "https://localhost:8080/"
        },
        "id": "T6a6BnOxyOrO",
        "outputId": "dd8e5081-cd74-4af1-8984-dfe0accc17f6"
      },
      "source": [
        "#checking score based on set test\n",
        "pred2 = cf_knn.predict(X_test)\n",
        "\n",
        "print(f\"Classification Repport\\n  {classification_report(y_test , pred2)}\")\n",
        "\n",
        "print(\"\\n\\n\")\n",
        "print(f\"Confudion Matrix  \\n {confusion_matrix(y_test , pred2)}\")\n",
        "\n",
        "print(\"\\n\\n\")\n",
        "print(f\"Accuracy score   {accuracy_score(y_test , pred2)}\")"
      ],
      "execution_count": null,
      "outputs": [
        {
          "output_type": "stream",
          "name": "stdout",
          "text": [
            "Classification Repport\n",
            "                precision    recall  f1-score   support\n",
            "\n",
            "           0       0.88      0.81      0.85       235\n",
            "           1       0.76      0.85      0.80       165\n",
            "\n",
            "    accuracy                           0.83       400\n",
            "   macro avg       0.82      0.83      0.82       400\n",
            "weighted avg       0.83      0.83      0.83       400\n",
            "\n",
            "\n",
            "\n",
            "\n",
            "Confudion Matrix  \n",
            " [[191  44]\n",
            " [ 25 140]]\n",
            "\n",
            "\n",
            "\n",
            "Accuracy score   0.8275\n"
          ]
        }
      ]
    },
    {
      "cell_type": "code",
      "metadata": {
        "id": "3lLUTxtN_fjT"
      },
      "source": [
        "#Uji coba menggunakan data sendiri\n",
        "X_test_dataset = tf.transform(['There this over my my my ever it sad beast or morrow some balm. It then still came that of cried that the and truly nevermore my uncertain into gloating surely as. Sign these implore raven whispered for at thing take whispered lenore oer the shore and. Nevermore my for chamber angels the memories rapping. He what upon at and. Have chamber explore heart this oh i nothing form there the i spoken and flown as.'])"
      ],
      "execution_count": null,
      "outputs": []
    },
    {
      "cell_type": "code",
      "metadata": {
        "colab": {
          "base_uri": "https://localhost:8080/"
        },
        "id": "RQe7Y94YAYXr",
        "outputId": "7e7395d7-62b0-4215-ba82-ef17b06e3707"
      },
      "source": [
        "predictions = cf_nb.predict(X_test_dataset)\n",
        "print(predictions)"
      ],
      "execution_count": null,
      "outputs": [
        {
          "output_type": "stream",
          "name": "stdout",
          "text": [
            "[1]\n"
          ]
        }
      ]
    },
    {
      "cell_type": "code",
      "metadata": {
        "id": "X1YtMueOzejM"
      },
      "source": [
        "#Probabilitas Prediksi\n",
        "nb_probs = cf_nb.predict_proba(X_test)\n",
        "rf_probs = cf_rf.predict_proba(X_test)\n",
        "knn_probs = cf_knn.predict_proba(X_test)"
      ],
      "execution_count": null,
      "outputs": []
    },
    {
      "cell_type": "code",
      "metadata": {
        "id": "YWSoGvdg0nRJ"
      },
      "source": [
        "nb_probs = nb_probs[:, 1]\n",
        "rf_probs = rf_probs[:, 1]\n",
        "knn_probs = knn_probs[:, 1]"
      ],
      "execution_count": null,
      "outputs": []
    },
    {
      "cell_type": "code",
      "metadata": {
        "id": "M_HaRq110w8g"
      },
      "source": [
        "#Import library untuk AUC/ROC\n",
        "from sklearn.metrics import roc_curve, roc_auc_score"
      ],
      "execution_count": null,
      "outputs": []
    },
    {
      "cell_type": "code",
      "metadata": {
        "id": "GQFxsrqx05k7"
      },
      "source": [
        "nb_auc = roc_auc_score(y_test, nb_probs)\n",
        "rf_auc = roc_auc_score(y_test, rf_probs)\n",
        "knn_auc = roc_auc_score(y_test, knn_probs)"
      ],
      "execution_count": null,
      "outputs": []
    },
    {
      "cell_type": "code",
      "metadata": {
        "colab": {
          "base_uri": "https://localhost:8080/"
        },
        "id": "0jYkEJBb1gyT",
        "outputId": "cf043e64-ba83-4578-f767-e7fd992c3f61"
      },
      "source": [
        "print('Naive Bayes: AUROC = %.3f' % (nb_auc))\n",
        "print('Random Forest: AUROC = %.3f' % (rf_auc))\n",
        "print('KNN: AUROC = %.3f' % (knn_auc))"
      ],
      "execution_count": null,
      "outputs": [
        {
          "output_type": "stream",
          "name": "stdout",
          "text": [
            "Naive Bayes: AUROC = 0.859\n",
            "Random Forest: AUROC = 0.840\n",
            "KNN: AUROC = 0.845\n"
          ]
        }
      ]
    },
    {
      "cell_type": "code",
      "metadata": {
        "id": "ohS-kXQg2F8q"
      },
      "source": [
        "nb_fpr, nb_tpr, _ = roc_curve(y_test, nb_probs)\n",
        "rf_fpr, rf_tpr, _ = roc_curve(y_test, rf_probs)\n",
        "knn_fpr, knn_tpr, _ = roc_curve(y_test, knn_probs)"
      ],
      "execution_count": null,
      "outputs": []
    },
    {
      "cell_type": "code",
      "metadata": {
        "id": "vvR37KBP1pTr"
      },
      "source": [
        "#Import library pyplot\n",
        "import matplotlib.pyplot as plt"
      ],
      "execution_count": null,
      "outputs": []
    },
    {
      "cell_type": "code",
      "metadata": {
        "colab": {
          "base_uri": "https://localhost:8080/",
          "height": 295
        },
        "id": "sJgzkIzN6sso",
        "outputId": "07fa4f2a-6028-4221-a204-c821811565b8"
      },
      "source": [
        "plt.plot(nb_fpr, nb_tpr, marker='.', label='Naive Bayes (AUROC = %0.3f)' % nb_auc)\n",
        "plt.plot(rf_fpr, rf_tpr, marker='.', label='Random Forest (AUROC = %0.3f)' % rf_auc)\n",
        "plt.plot(knn_fpr, knn_tpr, marker='.', label='KNN (AUROC = %0.3f)' % knn_auc)\n",
        "\n",
        "\n",
        "# Title\n",
        "plt.title('ROC Plot')\n",
        "# Axis labels\n",
        "plt.xlabel('False Positive Rate')\n",
        "plt.ylabel('True Positive Rate')\n",
        "# Show legend\n",
        "plt.legend() \n",
        "# Show plot\n",
        "plt.show()"
      ],
      "execution_count": null,
      "outputs": [
        {
          "output_type": "display_data",
          "data": {
            "image/png": "[encoded data removed]",
            "text/plain": [
              "<Figure size 432x288 with 1 Axes>"
            ]
          },
          "metadata": {
            "needs_background": "light"
          }
        }
      ]
    }
  ]
}